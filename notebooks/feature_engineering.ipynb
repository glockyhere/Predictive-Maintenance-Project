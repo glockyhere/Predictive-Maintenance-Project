{
 "cells": [
  {
   "cell_type": "code",
   "execution_count": null,
   "metadata": {
    "vscode": {
     "languageId": "plaintext"
    }
   },
   "outputs": [],
   "source": [
    "import pandas as pd\n",
    "\n",
    "# Load the dataset\n",
    "data = pd.read_csv('../data/raw/vehicle_data.csv')\n",
    "\n",
    "# Feature Engineering: Time since last maintenance\n",
    "data['time_since_last_maintenance'] = data['timestamp'].diff().fillna(0)\n",
    "\n",
    "# Rolling averages for sensor data (7-day rolling mean)\n",
    "data['avg_temp_7d'] = data['temperature'].rolling(window=7).mean().fillna(data['temperature'].mean())\n",
    "\n",
    "# Feature: Cumulative mileage\n",
    "data['cumulative_mileage'] = data['mileage'].cumsum()\n",
    "\n",
    "# Save the processed data\n",
    "data.to_csv('../data/processed/vehicle_data_processed.csv', index=False)\n"
   ]
  }
 ],
 "metadata": {
  "language_info": {
   "name": "python"
  }
 },
 "nbformat": 4,
 "nbformat_minor": 2
}
