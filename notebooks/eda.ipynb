{
 "cells": [
  {
   "cell_type": "code",
   "execution_count": null,
   "metadata": {
    "vscode": {
     "languageId": "plaintext"
    }
   },
   "outputs": [],
   "source": [
    "import pandas as pd\n",
    "import seaborn as sns\n",
    "import matplotlib.pyplot as plt\n",
    "\n",
    "# Load the dataset\n",
    "data = pd.read_csv('../data/raw/vehicle_data.csv')\n",
    "\n",
    "# Display basic info about the data\n",
    "print(data.info())\n",
    "print(data.describe())\n",
    "\n",
    "# Visualize the correlation between variables\n",
    "plt.figure(figsize=(10,8))\n",
    "sns.heatmap(data.corr(), annot=True, cmap=\"coolwarm\")\n",
    "plt.title(\"Correlation Heatmap\")\n",
    "plt.show()\n",
    "\n",
    "# Time-series plot for some key sensor data\n",
    "data[['mileage', 'temperature', 'pressure']].plot(subplots=True, figsize=(15, 8), title=\"Sensor Data Over Time\")\n",
    "plt.show()\n",
    "\n",
    "# Distribution of the target variable (failure_event)\n",
    "sns.countplot(data['failure_event'])\n",
    "plt.title('Failure Event Distribution')\n",
    "plt.show()\n"
   ]
  }
 ],
 "metadata": {
  "language_info": {
   "name": "python"
  }
 },
 "nbformat": 4,
 "nbformat_minor": 2
}
